{
 "cells": [
  {
   "cell_type": "markdown",
   "id": "f6a34bfe",
   "metadata": {},
   "source": [
    "# Thư viện "
   ]
  },
  {
   "cell_type": "code",
   "execution_count": 1,
   "id": "518d781b",
   "metadata": {},
   "outputs": [],
   "source": [
    "from Mylib import myfuncs, stringToObjectConverter"
   ]
  },
  {
   "cell_type": "code",
   "execution_count": 2,
   "id": "263e2919",
   "metadata": {},
   "outputs": [
    {
     "name": "stdout",
     "output_type": "stream",
     "text": [
      "yaml file: demo.yaml loaded successfully\n"
     ]
    },
    {
     "data": {
      "text/html": [
       "<style>#sk-container-id-1 {color: black;}#sk-container-id-1 pre{padding: 0;}#sk-container-id-1 div.sk-toggleable {background-color: white;}#sk-container-id-1 label.sk-toggleable__label {cursor: pointer;display: block;width: 100%;margin-bottom: 0;padding: 0.3em;box-sizing: border-box;text-align: center;}#sk-container-id-1 label.sk-toggleable__label-arrow:before {content: \"▸\";float: left;margin-right: 0.25em;color: #696969;}#sk-container-id-1 label.sk-toggleable__label-arrow:hover:before {color: black;}#sk-container-id-1 div.sk-estimator:hover label.sk-toggleable__label-arrow:before {color: black;}#sk-container-id-1 div.sk-toggleable__content {max-height: 0;max-width: 0;overflow: hidden;text-align: left;background-color: #f0f8ff;}#sk-container-id-1 div.sk-toggleable__content pre {margin: 0.2em;color: black;border-radius: 0.25em;background-color: #f0f8ff;}#sk-container-id-1 input.sk-toggleable__control:checked~div.sk-toggleable__content {max-height: 200px;max-width: 100%;overflow: auto;}#sk-container-id-1 input.sk-toggleable__control:checked~label.sk-toggleable__label-arrow:before {content: \"▾\";}#sk-container-id-1 div.sk-estimator input.sk-toggleable__control:checked~label.sk-toggleable__label {background-color: #d4ebff;}#sk-container-id-1 div.sk-label input.sk-toggleable__control:checked~label.sk-toggleable__label {background-color: #d4ebff;}#sk-container-id-1 input.sk-hidden--visually {border: 0;clip: rect(1px 1px 1px 1px);clip: rect(1px, 1px, 1px, 1px);height: 1px;margin: -1px;overflow: hidden;padding: 0;position: absolute;width: 1px;}#sk-container-id-1 div.sk-estimator {font-family: monospace;background-color: #f0f8ff;border: 1px dotted black;border-radius: 0.25em;box-sizing: border-box;margin-bottom: 0.5em;}#sk-container-id-1 div.sk-estimator:hover {background-color: #d4ebff;}#sk-container-id-1 div.sk-parallel-item::after {content: \"\";width: 100%;border-bottom: 1px solid gray;flex-grow: 1;}#sk-container-id-1 div.sk-label:hover label.sk-toggleable__label {background-color: #d4ebff;}#sk-container-id-1 div.sk-serial::before {content: \"\";position: absolute;border-left: 1px solid gray;box-sizing: border-box;top: 0;bottom: 0;left: 50%;z-index: 0;}#sk-container-id-1 div.sk-serial {display: flex;flex-direction: column;align-items: center;background-color: white;padding-right: 0.2em;padding-left: 0.2em;position: relative;}#sk-container-id-1 div.sk-item {position: relative;z-index: 1;}#sk-container-id-1 div.sk-parallel {display: flex;align-items: stretch;justify-content: center;background-color: white;position: relative;}#sk-container-id-1 div.sk-item::before, #sk-container-id-1 div.sk-parallel-item::before {content: \"\";position: absolute;border-left: 1px solid gray;box-sizing: border-box;top: 0;bottom: 0;left: 50%;z-index: -1;}#sk-container-id-1 div.sk-parallel-item {display: flex;flex-direction: column;z-index: 1;position: relative;background-color: white;}#sk-container-id-1 div.sk-parallel-item:first-child::after {align-self: flex-end;width: 50%;}#sk-container-id-1 div.sk-parallel-item:last-child::after {align-self: flex-start;width: 50%;}#sk-container-id-1 div.sk-parallel-item:only-child::after {width: 0;}#sk-container-id-1 div.sk-dashed-wrapped {border: 1px dashed gray;margin: 0 0.4em 0.5em 0.4em;box-sizing: border-box;padding-bottom: 0.4em;background-color: white;}#sk-container-id-1 div.sk-label label {font-family: monospace;font-weight: bold;display: inline-block;line-height: 1.2em;}#sk-container-id-1 div.sk-label-container {text-align: center;}#sk-container-id-1 div.sk-container {/* jupyter's `normalize.less` sets `[hidden] { display: none; }` but bootstrap.min.css set `[hidden] { display: none !important; }` so we also need the `!important` here to be able to override the default hidden behavior on the sphinx rendered scikit-learn.org. See: https://github.com/scikit-learn/scikit-learn/issues/21755 */display: inline-block !important;position: relative;}#sk-container-id-1 div.sk-text-repr-fallback {display: none;}</style><div id=\"sk-container-id-1\" class=\"sk-top-container\"><div class=\"sk-text-repr-fallback\"><pre>CustomStackingClassifier(estimators=[LogisticRegression(C=0.1),\n",
       "                                     GaussianNB(var_smoothing=1e-08),\n",
       "                                     SGDClassifier(alpha=10, loss=&#x27;log_loss&#x27;)],\n",
       "                         final_estimator=LogisticRegression(C=0.1),\n",
       "                         weights=BoxList([1, 2, 3]))</pre><b>In a Jupyter environment, please rerun this cell to show the HTML representation or trust the notebook. <br />On GitHub, the HTML representation is unable to render, please try loading this page with nbviewer.org.</b></div><div class=\"sk-container\" hidden><div class=\"sk-item sk-dashed-wrapped\"><div class=\"sk-label-container\"><div class=\"sk-label sk-toggleable\"><input class=\"sk-toggleable__control sk-hidden--visually\" id=\"sk-estimator-id-1\" type=\"checkbox\" ><label for=\"sk-estimator-id-1\" class=\"sk-toggleable__label sk-toggleable__label-arrow\">CustomStackingClassifier</label><div class=\"sk-toggleable__content\"><pre>CustomStackingClassifier(estimators=[LogisticRegression(C=0.1),\n",
       "                                     GaussianNB(var_smoothing=1e-08),\n",
       "                                     SGDClassifier(alpha=10, loss=&#x27;log_loss&#x27;)],\n",
       "                         final_estimator=LogisticRegression(C=0.1),\n",
       "                         weights=BoxList([1, 2, 3]))</pre></div></div></div><div class=\"sk-parallel\"><div class=\"sk-parallel-item\"><div class=\"sk-item\"><div class=\"sk-label-container\"><div class=\"sk-label sk-toggleable\"><input class=\"sk-toggleable__control sk-hidden--visually\" id=\"sk-estimator-id-2\" type=\"checkbox\" ><label for=\"sk-estimator-id-2\" class=\"sk-toggleable__label sk-toggleable__label-arrow\">final_estimator: LogisticRegression</label><div class=\"sk-toggleable__content\"><pre>LogisticRegression(C=0.1)</pre></div></div></div><div class=\"sk-serial\"><div class=\"sk-item\"><div class=\"sk-estimator sk-toggleable\"><input class=\"sk-toggleable__control sk-hidden--visually\" id=\"sk-estimator-id-3\" type=\"checkbox\" ><label for=\"sk-estimator-id-3\" class=\"sk-toggleable__label sk-toggleable__label-arrow\">LogisticRegression</label><div class=\"sk-toggleable__content\"><pre>LogisticRegression(C=0.1)</pre></div></div></div></div></div></div></div></div></div></div>"
      ],
      "text/plain": [
       "CustomStackingClassifier(estimators=[LogisticRegression(C=0.1),\n",
       "                                     GaussianNB(var_smoothing=1e-08),\n",
       "                                     SGDClassifier(alpha=10, loss='log_loss')],\n",
       "                         final_estimator=LogisticRegression(C=0.1),\n",
       "                         weights=BoxList([1, 2, 3]))"
      ]
     },
     "execution_count": 2,
     "metadata": {},
     "output_type": "execute_result"
    }
   ],
   "source": [
    "models_yaml = myfuncs.read_yaml(\"demo.yaml\")\n",
    "models_yaml = models_yaml.models\n",
    "\n",
    "models_yaml\n",
    "\n",
    "models = [stringToObjectConverter.convert_MLmodel_yaml_to_object(model) for model in models_yaml]\n",
    "\n",
    "models[0]\n"
   ]
  },
  {
   "cell_type": "code",
   "execution_count": 1,
   "id": "51f78e9d",
   "metadata": {},
   "outputs": [
    {
     "data": {
      "text/plain": [
       "0    ab\n",
       "1    ab\n",
       "2    c1\n",
       "3     d\n",
       "4    ab\n",
       "5    c1\n",
       "6     d\n",
       "dtype: category\n",
       "Categories (3, string): [ab, c1, d]"
      ]
     },
     "execution_count": 1,
     "metadata": {},
     "output_type": "execute_result"
    }
   ],
   "source": [
    "from Mylib import myfuncs \n",
    "import pandas as pd\n",
    "\n",
    "a = pd.Series(['a', 'b', 'c', 'd', 'b', 'c', 'd'])\n",
    "\n",
    "replace_value_list = [\n",
    "    [['a', 'b'], 'ab'],\n",
    "    [['c'], 'c1'],\n",
    "]\n",
    "\n",
    "a = myfuncs.replace_in_category_series_33(a, replace_value_list)\n",
    "\n",
    "a"
   ]
  },
  {
   "cell_type": "code",
   "execution_count": null,
   "id": "78c5ff6c",
   "metadata": {},
   "outputs": [],
   "source": [
    "estimators = [[Logic, XGB, RandomForest], [Logic, XGB]]\n",
    "final_estimator = RandomForest\n"
   ]
  },
  {
   "cell_type": "code",
   "execution_count": 4,
   "id": "6e9604d5",
   "metadata": {},
   "outputs": [
    {
     "data": {
      "text/plain": [
       "[1, 2, 3]"
      ]
     },
     "execution_count": 4,
     "metadata": {},
     "output_type": "execute_result"
    }
   ],
   "source": [
    "list(models[0].weights)"
   ]
  },
  {
   "cell_type": "code",
   "execution_count": 13,
   "id": "493365f9",
   "metadata": {},
   "outputs": [
    {
     "data": {
      "text/plain": [
       "array([[1, 2, 3, 4, 3, 4],\n",
       "       [2, 3, 4, 5, 4, 5]])"
      ]
     },
     "execution_count": 13,
     "metadata": {},
     "output_type": "execute_result"
    }
   ],
   "source": [
    "import numpy as np \n",
    "\n",
    "a = np.asarray([[1,2], [2,3]])\n",
    "b = np.asarray([[3,4], [4,5]])\n",
    "c = np.asarray([[3,4], [4,5]])\n",
    "\n",
    "c = [a,b, c]\n",
    "\n",
    "np.hstack(c)"
   ]
  },
  {
   "cell_type": "code",
   "execution_count": 6,
   "id": "2ebb6fd9",
   "metadata": {},
   "outputs": [
    {
     "data": {
      "text/plain": [
       "[1, 2]"
      ]
     },
     "execution_count": 6,
     "metadata": {},
     "output_type": "execute_result"
    }
   ],
   "source": [
    "obj =  ast.literal_eval(\"[1,2]\")\n",
    "obj"
   ]
  },
  {
   "cell_type": "code",
   "execution_count": 9,
   "id": "0dd9e278",
   "metadata": {},
   "outputs": [
    {
     "data": {
      "text/plain": [
       "'hello'"
      ]
     },
     "execution_count": 9,
     "metadata": {},
     "output_type": "execute_result"
    }
   ],
   "source": [
    "import os\n",
    "\n",
    "path = os.path.join(\"artifacts\", \"hello.pkl\")\n",
    "filename = os.path.splitext(os.path.basename(path))[0]\n",
    "filename"
   ]
  },
  {
   "cell_type": "code",
   "execution_count": 1,
   "id": "1582678c",
   "metadata": {},
   "outputs": [
    {
     "name": "stdout",
     "output_type": "stream",
     "text": [
      "yaml file: demo.yaml loaded successfully\n",
      "class_name: CustomStackingClassifier\n",
      "estimators:\n",
      "   - LogisticRegression(C = 0.1)\n",
      "   - GaussianNB(var_smoothing=1e-8)\n",
      "   - SGDClassifier(alpha=10, loss='log_loss')\n",
      "final_estimator: LogisticRegression(C = 0.1)\n"
     ]
    }
   ],
   "source": [
    "from Mylib import stringToObjectConverter, myfuncs\n",
    "\n",
    "\n",
    "models = myfuncs.read_yaml(\"demo.yaml\").models\n",
    "\n",
    "model = models[0]\n",
    "\n",
    "print(myfuncs.get_model_desc_for_CustomStackingClassifier(model))\n",
    "\n"
   ]
  },
  {
   "cell_type": "code",
   "execution_count": null,
   "id": "2c77a284",
   "metadata": {},
   "outputs": [
    {
     "ename": "TypeError",
     "evalue": "fit() got an unexpected keyword argument 'hello'",
     "output_type": "error",
     "traceback": [
      "\u001b[1;31m---------------------------------------------------------------------------\u001b[0m",
      "\u001b[1;31mTypeError\u001b[0m                                 Traceback (most recent call last)",
      "Cell \u001b[1;32mIn[18], line 31\u001b[0m\n\u001b[0;32m     28\u001b[0m         model\u001b[38;5;241m.\u001b[39mfit(X_batch, y_batch)\n\u001b[0;32m     29\u001b[0m     \u001b[38;5;28;01melse\u001b[39;00m:\n\u001b[0;32m     30\u001b[0m         \u001b[38;5;66;03m# Tiếp tục huấn luyện từ mô hình đã huấn luyện trước đó\u001b[39;00m\n\u001b[1;32m---> 31\u001b[0m         \u001b[43mmodel\u001b[49m\u001b[38;5;241;43m.\u001b[39;49m\u001b[43mfit\u001b[49m\u001b[43m(\u001b[49m\u001b[43mX_batch\u001b[49m\u001b[43m,\u001b[49m\u001b[43m \u001b[49m\u001b[43my_batch\u001b[49m\u001b[43m,\u001b[49m\u001b[43m \u001b[49m\u001b[43mhello\u001b[49m\u001b[38;5;241;43m=\u001b[39;49m\u001b[38;5;241;43m2\u001b[39;49m\u001b[43m)\u001b[49m\n\u001b[0;32m     33\u001b[0m \u001b[38;5;66;03m# Dự đoán và đánh giá mô hình\u001b[39;00m\n\u001b[0;32m     34\u001b[0m y_pred \u001b[38;5;241m=\u001b[39m model\u001b[38;5;241m.\u001b[39mpredict(X)\n",
      "File \u001b[1;32mc:\\Users\\ADMIN\\miniconda3\\envs\\ml_venv\\lib\\site-packages\\xgboost\\core.py:726\u001b[0m, in \u001b[0;36mrequire_keyword_args.<locals>.throw_if.<locals>.inner_f\u001b[1;34m(*args, **kwargs)\u001b[0m\n\u001b[0;32m    724\u001b[0m \u001b[38;5;28;01mfor\u001b[39;00m k, arg \u001b[38;5;129;01min\u001b[39;00m \u001b[38;5;28mzip\u001b[39m(sig\u001b[38;5;241m.\u001b[39mparameters, args):\n\u001b[0;32m    725\u001b[0m     kwargs[k] \u001b[38;5;241m=\u001b[39m arg\n\u001b[1;32m--> 726\u001b[0m \u001b[38;5;28;01mreturn\u001b[39;00m func(\u001b[38;5;241m*\u001b[39m\u001b[38;5;241m*\u001b[39mkwargs)\n",
      "\u001b[1;31mTypeError\u001b[0m: fit() got an unexpected keyword argument 'hello'"
     ]
    }
   ],
   "source": [
    "import numpy as np\n",
    "from xgboost import XGBClassifier\n",
    "from sklearn.datasets import make_classification\n",
    "from sklearn import metrics\n",
    "\n",
    "# Giả sử bạn có một tập dữ liệu với 10,000 dòng\n",
    "X, y = make_classification(n_samples=10000, n_features=20, random_state=42)\n",
    "\n",
    "# Khởi tạo XGBClassifier\n",
    "model = XGBClassifier(n_estimators=5, learning_rate=0.1)\n",
    "\n",
    "batch_size = 500\n",
    "\n",
    "list_X_batch = [\n",
    "    X[i : i + batch_size, :]\n",
    "    for i in range(0, len(X), batch_size)\n",
    "]\n",
    "\n",
    "list_y_batch = [\n",
    "    y[i : i + batch_size]\n",
    "    for i in range(0, len(X), batch_size)\n",
    "]\n",
    "\n",
    "# Lặp qua từng batch, huấn luyện mô hình\n",
    "for i, (X_batch, y_batch) in enumerate(zip(list_X_batch, list_y_batch)):\n",
    "    if i == 0:\n",
    "        # Huấn luyện lần đầu tiên\n",
    "        model.fit(X_batch, y_batch)\n",
    "    else:\n",
    "        # Tiếp tục huấn luyện từ mô hình đã huấn luyện trước đó\n",
    "        model.fit(X_batch, y_batch, xgb_model=model.get_booster())\n",
    "\n",
    "# Dự đoán và đánh giá mô hình\n",
    "y_pred = model.predict(X)\n",
    "accuracy = metrics.accuracy_score(y, y_pred)\n",
    "print(f\"Accuracy: {accuracy}\")\n"
   ]
  },
  {
   "cell_type": "code",
   "execution_count": 39,
   "id": "59b47981",
   "metadata": {},
   "outputs": [
    {
     "data": {
      "text/plain": [
       "True"
      ]
     },
     "execution_count": 39,
     "metadata": {},
     "output_type": "execute_result"
    }
   ],
   "source": [
    "model = XGBClassifier()\n",
    "\n",
    "isinstance(model, XGBClassifier)"
   ]
  },
  {
   "cell_type": "code",
   "execution_count": 36,
   "id": "e1e98d6d",
   "metadata": {},
   "outputs": [
    {
     "data": {
      "text/plain": [
       "['warm_start   = True',\n",
       " 'hidden_layer_sizes=(64,32,16),',\n",
       " \"activation='relu',\",\n",
       " 'max_iter=100,',\n",
       " 'batch_size=1024,',\n",
       " 'validation_fraction=0',\n",
       " 'early_stopping=True)']"
      ]
     },
     "execution_count": 36,
     "metadata": {},
     "output_type": "execute_result"
    }
   ],
   "source": [
    "import re\n",
    "\n",
    "text = \"MLPClassifier(   warm_start   = True   ,hidden_layer_sizes=(64,32,16), activation='relu', max_iter=100, batch_size=1024, validation_fraction=0.1, early_stopping=True)\"\n",
    "\n",
    "# Tách tên lớp và tham số\n",
    "class_name = text.split(\"(\", 1)[0]\n",
    "\n",
    "object_class = globals()[class_name]\n",
    "\n",
    "format = r\"\\w+\\s*=\\s*[\\w\\(\\),\\']+\"\n",
    "param = re.findall(format, text)\n",
    "\n",
    "param\n",
    "\n",
    "# param_name = [item.split(\"=\")[0].strip() for item in param]\n",
    "# param_value = [item.split(\"=\")[1].strip() for item in param]\n",
    "\n",
    "# param_value"
   ]
  },
  {
   "cell_type": "code",
   "execution_count": 16,
   "id": "ee5241d8",
   "metadata": {},
   "outputs": [],
   "source": [
    "model = MLPClassifier(warm_start=True)"
   ]
  },
  {
   "cell_type": "code",
   "execution_count": 9,
   "id": "05de3a62",
   "metadata": {},
   "outputs": [
    {
     "name": "stdout",
     "output_type": "stream",
     "text": [
      "2.1.4\n"
     ]
    }
   ],
   "source": [
    "import xgboost \n",
    "\n",
    "print(xgboost.__version__)"
   ]
  },
  {
   "cell_type": "code",
   "execution_count": null,
   "id": "05c58c61",
   "metadata": {},
   "outputs": [
    {
     "data": {
      "text/html": [
       "<div>\n",
       "<style scoped>\n",
       "    .dataframe tbody tr th:only-of-type {\n",
       "        vertical-align: middle;\n",
       "    }\n",
       "\n",
       "    .dataframe tbody tr th {\n",
       "        vertical-align: top;\n",
       "    }\n",
       "\n",
       "    .dataframe thead th {\n",
       "        text-align: right;\n",
       "    }\n",
       "</style>\n",
       "<table border=\"1\" class=\"dataframe\">\n",
       "  <thead>\n",
       "    <tr style=\"text-align: right;\">\n",
       "      <th></th>\n",
       "      <th>0</th>\n",
       "      <th>1</th>\n",
       "      <th>2</th>\n",
       "      <th>3</th>\n",
       "      <th>4</th>\n",
       "      <th>5</th>\n",
       "      <th>6</th>\n",
       "      <th>7</th>\n",
       "      <th>8</th>\n",
       "      <th>9</th>\n",
       "    </tr>\n",
       "  </thead>\n",
       "  <tbody>\n",
       "    <tr>\n",
       "      <th>0</th>\n",
       "      <td>-0.097248</td>\n",
       "      <td>-0.043218</td>\n",
       "      <td>-0.265815</td>\n",
       "      <td>0.111935</td>\n",
       "      <td>0.150092</td>\n",
       "      <td>-0.016558</td>\n",
       "      <td>0.017185</td>\n",
       "      <td>0.103372</td>\n",
       "      <td>0.049894</td>\n",
       "      <td>-0.184696</td>\n",
       "    </tr>\n",
       "    <tr>\n",
       "      <th>1</th>\n",
       "      <td>0.186874</td>\n",
       "      <td>-0.134880</td>\n",
       "      <td>-0.117323</td>\n",
       "      <td>-0.049524</td>\n",
       "      <td>0.111066</td>\n",
       "      <td>-0.218406</td>\n",
       "      <td>0.167135</td>\n",
       "      <td>-0.051754</td>\n",
       "      <td>-0.007685</td>\n",
       "      <td>-0.035729</td>\n",
       "    </tr>\n",
       "    <tr>\n",
       "      <th>2</th>\n",
       "      <td>0.155977</td>\n",
       "      <td>-0.006309</td>\n",
       "      <td>-0.017333</td>\n",
       "      <td>0.201616</td>\n",
       "      <td>0.098383</td>\n",
       "      <td>0.190598</td>\n",
       "      <td>0.078926</td>\n",
       "      <td>-0.165511</td>\n",
       "      <td>-0.166385</td>\n",
       "      <td>0.136122</td>\n",
       "    </tr>\n",
       "    <tr>\n",
       "      <th>3</th>\n",
       "      <td>-0.312429</td>\n",
       "      <td>-0.111052</td>\n",
       "      <td>-0.050050</td>\n",
       "      <td>0.080957</td>\n",
       "      <td>0.201140</td>\n",
       "      <td>0.092766</td>\n",
       "      <td>-0.114738</td>\n",
       "      <td>-0.086712</td>\n",
       "      <td>0.042215</td>\n",
       "      <td>-0.099011</td>\n",
       "    </tr>\n",
       "    <tr>\n",
       "      <th>4</th>\n",
       "      <td>0.031333</td>\n",
       "      <td>0.097333</td>\n",
       "      <td>-0.057367</td>\n",
       "      <td>-0.030342</td>\n",
       "      <td>0.154183</td>\n",
       "      <td>-0.073601</td>\n",
       "      <td>-0.153181</td>\n",
       "      <td>-0.064510</td>\n",
       "      <td>0.062237</td>\n",
       "      <td>0.016441</td>\n",
       "    </tr>\n",
       "    <tr>\n",
       "      <th>...</th>\n",
       "      <td>...</td>\n",
       "      <td>...</td>\n",
       "      <td>...</td>\n",
       "      <td>...</td>\n",
       "      <td>...</td>\n",
       "      <td>...</td>\n",
       "      <td>...</td>\n",
       "      <td>...</td>\n",
       "      <td>...</td>\n",
       "      <td>...</td>\n",
       "    </tr>\n",
       "    <tr>\n",
       "      <th>9995</th>\n",
       "      <td>0.395789</td>\n",
       "      <td>-0.092389</td>\n",
       "      <td>-0.003644</td>\n",
       "      <td>0.152082</td>\n",
       "      <td>-0.080188</td>\n",
       "      <td>0.011601</td>\n",
       "      <td>-0.082576</td>\n",
       "      <td>-0.090687</td>\n",
       "      <td>-0.218288</td>\n",
       "      <td>-0.054186</td>\n",
       "    </tr>\n",
       "    <tr>\n",
       "      <th>9996</th>\n",
       "      <td>0.204065</td>\n",
       "      <td>-0.246415</td>\n",
       "      <td>0.214963</td>\n",
       "      <td>0.215878</td>\n",
       "      <td>0.085831</td>\n",
       "      <td>0.234779</td>\n",
       "      <td>0.058144</td>\n",
       "      <td>0.079624</td>\n",
       "      <td>0.099719</td>\n",
       "      <td>-0.057190</td>\n",
       "    </tr>\n",
       "    <tr>\n",
       "      <th>9997</th>\n",
       "      <td>-0.370814</td>\n",
       "      <td>-0.001821</td>\n",
       "      <td>-0.037114</td>\n",
       "      <td>0.213185</td>\n",
       "      <td>-0.205793</td>\n",
       "      <td>0.033708</td>\n",
       "      <td>0.150469</td>\n",
       "      <td>0.023313</td>\n",
       "      <td>0.060360</td>\n",
       "      <td>0.276384</td>\n",
       "    </tr>\n",
       "    <tr>\n",
       "      <th>9998</th>\n",
       "      <td>0.237864</td>\n",
       "      <td>-0.085875</td>\n",
       "      <td>-0.226185</td>\n",
       "      <td>0.087428</td>\n",
       "      <td>-0.042542</td>\n",
       "      <td>-0.010563</td>\n",
       "      <td>-0.006005</td>\n",
       "      <td>-0.053812</td>\n",
       "      <td>0.141612</td>\n",
       "      <td>-0.199983</td>\n",
       "    </tr>\n",
       "    <tr>\n",
       "      <th>9999</th>\n",
       "      <td>0.129645</td>\n",
       "      <td>0.234303</td>\n",
       "      <td>-0.030473</td>\n",
       "      <td>-0.182321</td>\n",
       "      <td>0.194892</td>\n",
       "      <td>0.094931</td>\n",
       "      <td>0.221302</td>\n",
       "      <td>0.173041</td>\n",
       "      <td>-0.129665</td>\n",
       "      <td>0.212641</td>\n",
       "    </tr>\n",
       "  </tbody>\n",
       "</table>\n",
       "<p>10000 rows × 10 columns</p>\n",
       "</div>"
      ],
      "text/plain": [
       "             0         1         2         3         4         5         6  \\\n",
       "0    -0.097248 -0.043218 -0.265815  0.111935  0.150092 -0.016558  0.017185   \n",
       "1     0.186874 -0.134880 -0.117323 -0.049524  0.111066 -0.218406  0.167135   \n",
       "2     0.155977 -0.006309 -0.017333  0.201616  0.098383  0.190598  0.078926   \n",
       "3    -0.312429 -0.111052 -0.050050  0.080957  0.201140  0.092766 -0.114738   \n",
       "4     0.031333  0.097333 -0.057367 -0.030342  0.154183 -0.073601 -0.153181   \n",
       "...        ...       ...       ...       ...       ...       ...       ...   \n",
       "9995  0.395789 -0.092389 -0.003644  0.152082 -0.080188  0.011601 -0.082576   \n",
       "9996  0.204065 -0.246415  0.214963  0.215878  0.085831  0.234779  0.058144   \n",
       "9997 -0.370814 -0.001821 -0.037114  0.213185 -0.205793  0.033708  0.150469   \n",
       "9998  0.237864 -0.085875 -0.226185  0.087428 -0.042542 -0.010563 -0.006005   \n",
       "9999  0.129645  0.234303 -0.030473 -0.182321  0.194892  0.094931  0.221302   \n",
       "\n",
       "             7         8         9  \n",
       "0     0.103372  0.049894 -0.184696  \n",
       "1    -0.051754 -0.007685 -0.035729  \n",
       "2    -0.165511 -0.166385  0.136122  \n",
       "3    -0.086712  0.042215 -0.099011  \n",
       "4    -0.064510  0.062237  0.016441  \n",
       "...        ...       ...       ...  \n",
       "9995 -0.090687 -0.218288 -0.054186  \n",
       "9996  0.079624  0.099719 -0.057190  \n",
       "9997  0.023313  0.060360  0.276384  \n",
       "9998 -0.053812  0.141612 -0.199983  \n",
       "9999  0.173041 -0.129665  0.212641  \n",
       "\n",
       "[10000 rows x 10 columns]"
      ]
     },
     "execution_count": 7,
     "metadata": {},
     "output_type": "execute_result"
    }
   ],
   "source": [
    "batch_size = 500\n",
    "list_X_batch = [\n",
    "X[i : i + batch_size, :]\n",
    "for i in range(0, len(X), batch_size)\n",
    "]\n",
    "\n",
    "list_y_batch = [\n",
    "y[i : i + batch_size]\n",
    "for i in range(0, len(X), batch_size)\n",
    "]\n",
    "\n",
    "for X_batch, y_batch in zip(list_X_batch, list_y_batch) : \n",
    "    model.fit(X_batch, y_batch)"
   ]
  },
  {
   "cell_type": "code",
   "execution_count": 13,
   "id": "80a8e860",
   "metadata": {},
   "outputs": [
    {
     "data": {
      "text/plain": [
       "array([1, 1, 1, ..., 0, 1, 1])"
      ]
     },
     "execution_count": 13,
     "metadata": {},
     "output_type": "execute_result"
    }
   ],
   "source": [
    "y"
   ]
  },
  {
   "cell_type": "code",
   "execution_count": 15,
   "id": "5dfe05b3",
   "metadata": {},
   "outputs": [
    {
     "name": "stdout",
     "output_type": "stream",
     "text": [
      "Fit batch no. 0\n",
      "Fit batch no. 1\n",
      "Fit batch no. 2\n",
      "Fit batch no. 3\n",
      "Fit batch no. 4\n",
      "Fit batch no. 5\n",
      "Fit batch no. 6\n",
      "Fit batch no. 7\n",
      "Fit batch no. 8\n",
      "Fit batch no. 9\n",
      "Fit batch no. 10\n",
      "Fit batch no. 11\n",
      "Fit batch no. 12\n",
      "Fit batch no. 13\n",
      "Fit batch no. 14\n",
      "Fit batch no. 15\n",
      "Fit batch no. 16\n",
      "Fit batch no. 17\n",
      "Fit batch no. 18\n",
      "Fit batch no. 19\n",
      "Tiến hành transform dữ liệu\n",
      "(10000, 10)\n"
     ]
    }
   ],
   "source": [
    "# Chia dữ liệu thành 6 batch, mỗi batch có 50,000 dòng\n",
    "batch_size = 500\n",
    "num_batches = X.shape[0] // batch_size\n",
    "\n",
    "# Khởi tạo KernelPCA với kernel là 'rbf' (Radial Basis Function)\n",
    "kpca = KernelPCA(kernel='rbf', n_components=10)\n",
    "\n",
    "# Tính toán ma trận hạt nhân cho toàn bộ dữ liệu sau khi fit trên các batch\n",
    "# Không thực hiện transform ở đây, chỉ lưu các thông tin cần thiết\n",
    "for i in range(num_batches):\n",
    "    print(f\"Fit batch no. {i}\")\n",
    "    start = i * batch_size\n",
    "    end = (i + 1) * batch_size\n",
    "    batch = X[start:end]\n",
    "\n",
    "    # Fit KernelPCA cho batch hiện tại\n",
    "    kpca.fit(batch)\n",
    "    \n",
    "# Sau khi fit tất cả các batch, transform toàn bộ dữ liệu\n",
    "print(\"Tiến hành transform dữ liệu\")\n",
    "X_transformed = kpca.transform(X)\n",
    "\n",
    "# Bây giờ, bạn có thể sử dụng X_transformed cho các tác vụ khác như phân loại, phân cụm,...\n",
    "print(X_transformed.shape)"
   ]
  },
  {
   "cell_type": "code",
   "execution_count": 10,
   "id": "323c80c2",
   "metadata": {},
   "outputs": [
    {
     "data": {
      "text/plain": [
       "array([[ 0.06832064,  0.1522096 ],\n",
       "       [ 0.18322921,  0.02435615],\n",
       "       [ 0.03261752,  0.05863166],\n",
       "       ...,\n",
       "       [ 0.15806078,  0.23795613],\n",
       "       [-0.33751886,  0.00462025],\n",
       "       [-0.42269551, -0.19284862]])"
      ]
     },
     "execution_count": 10,
     "metadata": {},
     "output_type": "execute_result"
    }
   ],
   "source": [
    "X_transformed"
   ]
  },
  {
   "cell_type": "code",
   "execution_count": null,
   "id": "2a8a7429",
   "metadata": {},
   "outputs": [],
   "source": [
    "def do_ast_literal_eval_advanced_7(text: str):\n",
    "    \"\"\"Kế thừa hàm ast.literal_eval() nhưng xử lí thêm trường hợp sau\n",
    "\n",
    "    Tuple, List dạng (1.0 ; 2.0), các phần tử cách nhau bởi dấu ; thay vì dấu ,\n",
    "\n",
    "    \"\"\"\n",
    "    if \";\" not in text:\n",
    "        return ast.literal_eval(text)\n",
    "\n",
    "    return ast.literal_eval(text.replace(\";\", \",\"))\n",
    "\n",
    "\n",
    "def convert_complex_string_to_object_4(text: str):\n",
    "    \"\"\"Chuyển 1 chuỗi thành 1 đối tượng\n",
    "\n",
    "    Example:\n",
    "        text = \"LogisticRegression(C=144, penalty=l1, solver=saga ,max_iter=10000,dual=True)\"\n",
    "\n",
    "        -> đối tượng LogisticRegression(C=144, dual=True, max_iter=10000, penalty='l1',solver='saga')\n",
    "\n",
    "    Args:\n",
    "        text (str): _description_\n",
    "\n",
    "\n",
    "    \"\"\"\n",
    "    # Tách tên lớp và tham số\n",
    "    class_name, params = text.split(\"(\", 1)\n",
    "    params = params[:-1]\n",
    "\n",
    "    object_class = globals()[class_name]\n",
    "\n",
    "    if params == \"\":\n",
    "        return object_class()\n",
    "\n",
    "    # Lấy tham số của đối tượng\n",
    "    param_parts = params.split(\",\")\n",
    "    param_parts = [item.strip() for item in param_parts]\n",
    "    keys = [item.split(\"=\")[0].strip() for item in param_parts]\n",
    "\n",
    "    values = [\n",
    "        do_ast_literal_eval_advanced_7(item.strip().split(\"=\")[1].strip())\n",
    "        for item in param_parts\n",
    "    ]\n",
    "\n",
    "    params = dict(zip(keys, values))\n",
    "\n",
    "    return object_class(**params)\n",
    "\n"
   ]
  }
 ],
 "metadata": {
  "kernelspec": {
   "display_name": "ml_venv",
   "language": "python",
   "name": "python3"
  },
  "language_info": {
   "codemirror_mode": {
    "name": "ipython",
    "version": 3
   },
   "file_extension": ".py",
   "mimetype": "text/x-python",
   "name": "python",
   "nbconvert_exporter": "python",
   "pygments_lexer": "ipython3",
   "version": "3.9.18"
  }
 },
 "nbformat": 4,
 "nbformat_minor": 5
}
